{
 "cells": [
  {
   "cell_type": "code",
   "execution_count": 1,
   "id": "08d2618d-7b00-4cec-b3cc-07f47a401d52",
   "metadata": {},
   "outputs": [],
   "source": [
    "s = []\n",
    "s.append('https://www.cnn.com/')\n",
    "s.append('https://www.cnn.com/world')\n",
    "s.append('https://www.cnn.com/india')\n",
    "s.append('https://www.cnn.com/china')\n"
   ]
  },
  {
   "cell_type": "code",
   "execution_count": 2,
   "id": "66fc0788-8e14-429f-bd27-61be100564c3",
   "metadata": {},
   "outputs": [
    {
     "data": {
      "text/plain": [
       "'https://www.cnn.com/china'"
      ]
     },
     "execution_count": 2,
     "metadata": {},
     "output_type": "execute_result"
    }
   ],
   "source": [
    "s.pop()"
   ]
  },
  {
   "cell_type": "code",
   "execution_count": 3,
   "id": "26cf6caa-a6ae-4f10-8c87-1e42cc728710",
   "metadata": {},
   "outputs": [],
   "source": [
    "from collections import deque\n",
    "stack = deque()"
   ]
  },
  {
   "cell_type": "code",
   "execution_count": 4,
   "id": "3bfead15-5b00-4b20-b9d3-48ceda33c445",
   "metadata": {},
   "outputs": [
    {
     "data": {
      "text/plain": [
       "['__add__',\n",
       " '__bool__',\n",
       " '__class__',\n",
       " '__class_getitem__',\n",
       " '__contains__',\n",
       " '__copy__',\n",
       " '__delattr__',\n",
       " '__delitem__',\n",
       " '__dir__',\n",
       " '__doc__',\n",
       " '__eq__',\n",
       " '__format__',\n",
       " '__ge__',\n",
       " '__getattribute__',\n",
       " '__getitem__',\n",
       " '__gt__',\n",
       " '__hash__',\n",
       " '__iadd__',\n",
       " '__imul__',\n",
       " '__init__',\n",
       " '__init_subclass__',\n",
       " '__iter__',\n",
       " '__le__',\n",
       " '__len__',\n",
       " '__lt__',\n",
       " '__mul__',\n",
       " '__ne__',\n",
       " '__new__',\n",
       " '__reduce__',\n",
       " '__reduce_ex__',\n",
       " '__repr__',\n",
       " '__reversed__',\n",
       " '__rmul__',\n",
       " '__setattr__',\n",
       " '__setitem__',\n",
       " '__sizeof__',\n",
       " '__str__',\n",
       " '__subclasshook__',\n",
       " 'append',\n",
       " 'appendleft',\n",
       " 'clear',\n",
       " 'copy',\n",
       " 'count',\n",
       " 'extend',\n",
       " 'extendleft',\n",
       " 'index',\n",
       " 'insert',\n",
       " 'maxlen',\n",
       " 'pop',\n",
       " 'popleft',\n",
       " 'remove',\n",
       " 'reverse',\n",
       " 'rotate']"
      ]
     },
     "execution_count": 4,
     "metadata": {},
     "output_type": "execute_result"
    }
   ],
   "source": [
    "dir(stack)"
   ]
  },
  {
   "cell_type": "code",
   "execution_count": 5,
   "id": "fb2c3a57-5df8-44db-b24c-ffaa74d0b17a",
   "metadata": {},
   "outputs": [
    {
     "data": {
      "text/plain": [
       "deque(['https://www.cnn.com/'])"
      ]
     },
     "execution_count": 5,
     "metadata": {},
     "output_type": "execute_result"
    }
   ],
   "source": [
    "stack.append(\"https://www.cnn.com/\")\n",
    "stack"
   ]
  },
  {
   "cell_type": "code",
   "execution_count": 6,
   "id": "cd7d7661-114b-415a-ac40-0bc8b4f6ef6b",
   "metadata": {},
   "outputs": [
    {
     "data": {
      "text/plain": [
       "deque(['https://www.cnn.com/', 'https://www.cnn.com/world'])"
      ]
     },
     "execution_count": 6,
     "metadata": {},
     "output_type": "execute_result"
    }
   ],
   "source": [
    "stack.append(\"https://www.cnn.com/world\")\n",
    "stack"
   ]
  },
  {
   "cell_type": "code",
   "execution_count": 7,
   "id": "7e363bec-1ef8-4024-a3aa-ddc8ce69266c",
   "metadata": {},
   "outputs": [
    {
     "data": {
      "text/plain": [
       "deque(['https://www.cnn.com/',\n",
       "       'https://www.cnn.com/world',\n",
       "       'https://www.cnn.com/india',\n",
       "       'https://www.cnn.com/china'])"
      ]
     },
     "execution_count": 7,
     "metadata": {},
     "output_type": "execute_result"
    }
   ],
   "source": [
    "stack.append(\"https://www.cnn.com/india\")\n",
    "stack.append(\"https://www.cnn.com/china\")\n",
    "stack"
   ]
  },
  {
   "cell_type": "code",
   "execution_count": 8,
   "id": "8b05a8ed-b050-453d-8c6a-00a1ceddab49",
   "metadata": {},
   "outputs": [
    {
     "data": {
      "text/plain": [
       "'https://www.cnn.com/china'"
      ]
     },
     "execution_count": 8,
     "metadata": {},
     "output_type": "execute_result"
    }
   ],
   "source": [
    "stack.pop()"
   ]
  },
  {
   "cell_type": "markdown",
   "id": "fca237be-e136-4dc8-b340-1a1b272b5649",
   "metadata": {},
   "source": [
    "## implement stack class using a deque"
   ]
  },
  {
   "cell_type": "code",
   "execution_count": 10,
   "id": "ac4fc189-dec4-4898-89d5-bd4f284b1464",
   "metadata": {},
   "outputs": [],
   "source": [
    "class Stack:\n",
    "    def __init__(self):\n",
    "        self.container = deque()\n",
    "        \n",
    "    def push(self, val):\n",
    "        self.container.append(val)\n",
    "        \n",
    "    def pop(self):\n",
    "        return self.container.pop()\n",
    "    \n",
    "    def peek(self):\n",
    "        return self.container[-1]\n",
    "    \n",
    "    def is_empty(self):\n",
    "        return len(self.container)==0\n",
    "    \n",
    "    def size(self):\n",
    "        return len(self.container)"
   ]
  },
  {
   "cell_type": "code",
   "execution_count": 11,
   "id": "0d443e05-8bdb-41a3-98a0-f67169b696ad",
   "metadata": {},
   "outputs": [],
   "source": [
    "s = Stack()\n",
    "s.push(5)"
   ]
  },
  {
   "cell_type": "code",
   "execution_count": 12,
   "id": "007e1089-2d45-48f0-b8d8-f0284479ef1a",
   "metadata": {},
   "outputs": [
    {
     "data": {
      "text/plain": [
       "False"
      ]
     },
     "execution_count": 12,
     "metadata": {},
     "output_type": "execute_result"
    }
   ],
   "source": [
    "s.is_empty()"
   ]
  },
  {
   "cell_type": "code",
   "execution_count": 13,
   "id": "cf5802f9-4f9f-482e-84db-7f7e833e0754",
   "metadata": {},
   "outputs": [
    {
     "data": {
      "text/plain": [
       "5"
      ]
     },
     "execution_count": 13,
     "metadata": {},
     "output_type": "execute_result"
    }
   ],
   "source": [
    "s.pop()"
   ]
  },
  {
   "cell_type": "code",
   "execution_count": 14,
   "id": "b74e9acb-ea85-48df-a5d9-9e979e176080",
   "metadata": {},
   "outputs": [
    {
     "data": {
      "text/plain": [
       "True"
      ]
     },
     "execution_count": 14,
     "metadata": {},
     "output_type": "execute_result"
    }
   ],
   "source": [
    "s.is_empty()"
   ]
  },
  {
   "cell_type": "code",
   "execution_count": 15,
   "id": "6a508420-43d3-4141-94bf-8345e2070833",
   "metadata": {},
   "outputs": [],
   "source": [
    "s.push(9)\n",
    "s.push(34)\n",
    "s.push(78)\n",
    "s.push(12)"
   ]
  },
  {
   "cell_type": "code",
   "execution_count": 16,
   "id": "616e956f-979e-4e0d-be68-332da4eb1af6",
   "metadata": {},
   "outputs": [
    {
     "data": {
      "text/plain": [
       "12"
      ]
     },
     "execution_count": 16,
     "metadata": {},
     "output_type": "execute_result"
    }
   ],
   "source": [
    "s.peek()"
   ]
  },
  {
   "cell_type": "code",
   "execution_count": 17,
   "id": "2bc574a6-c5e5-429a-a97b-81eab6beaa85",
   "metadata": {},
   "outputs": [
    {
     "data": {
      "text/plain": [
       "12"
      ]
     },
     "execution_count": 17,
     "metadata": {},
     "output_type": "execute_result"
    }
   ],
   "source": [
    "s.pop()"
   ]
  }
 ],
 "metadata": {
  "kernelspec": {
   "display_name": "Python 3 (ipykernel)",
   "language": "python",
   "name": "python3"
  },
  "language_info": {
   "codemirror_mode": {
    "name": "ipython",
    "version": 3
   },
   "file_extension": ".py",
   "mimetype": "text/x-python",
   "name": "python",
   "nbconvert_exporter": "python",
   "pygments_lexer": "ipython3",
   "version": "3.9.5"
  }
 },
 "nbformat": 4,
 "nbformat_minor": 5
}
